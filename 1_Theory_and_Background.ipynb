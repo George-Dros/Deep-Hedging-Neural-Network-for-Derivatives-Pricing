{
 "cells": [
  {
   "cell_type": "markdown",
   "id": "dad26724-4f04-4009-ae69-5a4497e234ad",
   "metadata": {},
   "source": [
    "# 1. Theory and Background\n",
    "\n",
    "Welcome to the **Deep Hedging Neural Network for Derivatives Pricing** project.  \n",
    "This notebook lays the theoretical foundation for understanding how modern machine learning can be used to hedge financial derivatives under realistic market conditions.\n",
    "\n",
    "---"
   ]
  },
  {
   "cell_type": "markdown",
   "id": "1f69e5d7-b749-4be3-a0fe-5d41323b86fa",
   "metadata": {},
   "source": [
    "## 📘 1.1 Introduction\n",
    "\n",
    "In modern finance, hedging refers to strategies that reduce the risk of adverse price movements in an asset. Traditionally, this is done using models like Black-Scholes, which assume idealized market conditions — no transaction costs, continuous trading, and perfect liquidity.\n",
    "\n",
    "However, real markets are noisy, discontinuous, and contain frictions such as bid-ask spreads and slippage. In such settings, traditional analytic hedging methods underperform.  \n",
    "**Deep Hedging** replaces handcrafted formulas with neural networks that learn optimal hedging strategies from data, taking market imperfections into account.\n",
    "\n",
    "---"
   ]
  },
  {
   "cell_type": "markdown",
   "id": "351cc31d-cb41-485e-84a8-137f975c12f7",
   "metadata": {},
   "source": [
    "## 📘 1.2 Options & Derivatives Overview\n",
    "\n",
    "Options are financial contracts whose value depends on the price of an underlying asset. They give the right, but not the obligation, to buy or sell an asset at a predetermined price.\n",
    "\n",
    "### 🔹 1.2.1 Vanilla Options\n",
    "\n",
    "- **Call Option**: Right to **buy** an asset at a strike price $( K )$ before expiry $( T )$.\n",
    "- **Put Option**: Right to **sell** an asset at a strike price $( K )$ before expiry $( T )$.\n",
    "\n",
    "European option payoffs at maturity:\n",
    "\n",
    "$$\n",
    "\\text{Call:} \\quad \\max(S_T - K, 0)\n",
    "$$\n",
    "\n",
    "$$\n",
    "\\text{Put:} \\quad \\max(K - S_T, 0)\n",
    "$$\n",
    "\n",
    "Where $( S_T )$ is the underlying asset price at maturity.\n",
    "### 🔹 1.2.2 Exotic Options\n",
    "\n",
    "These include:\n",
    "- **Barrier options**: Activated or extinguished when the price hits a barrier.\n",
    "- **Asian options**: Payoff depends on the average price over time.\n",
    "- **Lookback options**: Payoff depends on the maximum or minimum price.\n",
    "\n",
    "\n",
    "---"
   ]
  },
  {
   "cell_type": "markdown",
   "id": "e280dbb8-570a-4c13-a3d3-92a4ad147cc4",
   "metadata": {},
   "source": [
    "## 📘 1.3 Stochastic Processes & Market Models\n",
    "\n",
    "Asset prices evolve stochastically — they follow random paths over time."
   ]
  },
  {
   "cell_type": "markdown",
   "id": "700c1d2c-3cea-4a6b-81f7-d341b4eccad1",
   "metadata": {},
   "source": [
    "### 🔹 1.3.1 Brownian Motion\n",
    "\n",
    "A continuous-time stochastic process used to model randomness in price movements.\n",
    "\n",
    "Properties:\n",
    "- $( B_0 = 0 )$\n",
    "- Continuous paths\n",
    "- Independent, normally distributed increments:\n",
    "\n",
    "$$\n",
    "B_t - B_s \\sim \\mathcal{N}(0, t - s)\n",
    "$$\n",
    "\n",
    "A common model for asset prices:\n",
    "\n",
    "$$\n",
    "dS_t = \\mu S_t \\, dt + \\sigma S_t \\, dB_t\n",
    "$$\n",
    "\n",
    "Where:\n",
    "- $( \\mu )$: drift (expected return)\n",
    "- $( \\sigma )$: volatility\n",
    "- $( dB_t )$: increment of Brownian motion\n",
    "\n",
    "The solution:\n",
    "\n",
    "$$\n",
    "S_t = S_0 \\exp\\left[\\left(\\mu - \\frac{\\sigma^2}{2}\\right)t + \\sigma B_t\\right]\n",
    "$$\n",
    "\n",
    "### 🔹 1.3.3 The Black-Scholes Model\n",
    "\n",
    "Assumes:\n",
    "- Continuous trading\n",
    "- No transaction costs\n",
    "- Log-normal price distribution\n",
    "\n",
    "The Black-Scholes price of a European call option:\n",
    "\n",
    "$$\n",
    "C = S_0 N(d_1) - K e^{-rT} N(d_2)\n",
    "$$\n",
    "\n",
    "Where:\n",
    "\n",
    "$$\n",
    "d_1 = \\frac{\\ln(S_0 / K) + (r + \\frac{\\sigma^2}{2})T}{\\sigma \\sqrt{T}}, \\quad\n",
    "d_2 = d_1 - \\sigma \\sqrt{T}\n",
    "$$\n",
    "\n",
    "---"
   ]
  },
  {
   "cell_type": "markdown",
   "id": "92945fa0-1f99-4a15-b071-7c86b632f9e8",
   "metadata": {},
   "source": [
    "## 📘 1.4 Hedging: Basic Concepts\n",
    "\n",
    "**Hedging** is the act of reducing financial risk by taking an offsetting position in a related asset.\n",
    "\n",
    "- **Static hedging**: Construct once and hold (e.g. buying protective puts).\n",
    "- **Dynamic hedging**: Frequently adjust positions in response to price changes.\n",
    "\n",
    "### 🔹 Delta Hedging\n",
    "\n",
    "Adjusting holdings of the underlying asset to neutralize small price movements:\n",
    "\n",
    "$$\n",
    "\\Delta = \\frac{\\partial C}{\\partial S}\n",
    "$$\n",
    "\n",
    "Limitations:\n",
    "- Requires continuous trading\n",
    "- Sensitive to volatility estimates\n",
    "- Breaks down with transaction costs or jumps\n",
    "---"
   ]
  },
  {
   "cell_type": "markdown",
   "id": "74b8831b-7d77-4b08-8955-be7256e7c443",
   "metadata": {},
   "source": [
    "## 📘 1.5 Deep Hedging: Core Idea\n",
    "\n",
    "Deep Hedging is a data-driven framework that learns optimal trading (hedging) strategies for derivatives under **realistic market conditions** such as transaction costs, discrete time steps, and illiquid markets.\n",
    "\n",
    "At each time step $( t )$, the agent observes the market state $( s_t )$, including:\n",
    "- Current asset prices\n",
    "- Volatility or other indicators\n",
    "- Time remaining\n",
    "- Any additional relevant information\n",
    "\n",
    "It outputs an action $( a_t )$ — the amount of each hedging asset to hold.\n",
    "\n",
    "### 🔹 Objective\n",
    "\n",
    "Instead of replicating the payoff exactly, Deep Hedging **maximizes a utility function** of the final portfolio value. The total gain is:\n",
    "\n",
    "$$\n",
    "G(a) = Z_T + a \\star H_T - C_T(a)\n",
    "$$\n",
    "\n",
    "Where:\n",
    "- $( Z_T )$: final portfolio value\n",
    "- $( a \\star H_T )$: accumulated P&L from trades\n",
    "- $( C_T(a) )$: total transaction costs\n",
    "\n",
    "The **policy** $( a(s_t) )$ is represented by a neural network with parameters $( \\theta )$:\n",
    "\n",
    "$$\n",
    "a_t = a_\\theta(s_t)\n",
    "$$\n",
    "\n",
    "---"
   ]
  },
  {
   "cell_type": "markdown",
   "id": "11ca4791-e737-46e4-b2ab-c1e6aac98ef4",
   "metadata": {},
   "source": [
    "## 📘 1.6 Reinforcement Learning in Deep Hedging\n",
    "\n",
    "This becomes a **policy optimization problem** in reinforcement learning.\n",
    "\n",
    "- **Agent**: the neural network\n",
    "- **State $( s_t )$**: current market info\n",
    "- **Action $( a_t )$**: how to adjust hedge\n",
    "- **Reward**: utility of terminal value minus trading cost\n",
    "\n",
    "The final goal becomes:\n",
    "\n",
    "$$\n",
    "\\max_\\theta \\; \\mathbb{E}[U(G(a_\\theta))]\n",
    "$$\n",
    "---"
   ]
  },
  {
   "cell_type": "markdown",
   "id": "1d90a93f-9f5f-401e-b0ec-efeaa285d7ff",
   "metadata": {},
   "source": [
    "## 📘 1.7 Literature Overview\n",
    "\n",
    "### 🔹 Bühler et al. – *Deep Hedging (2018)*\n",
    "\n",
    "- Formalized the use of neural networks to hedge options in incomplete markets.\n",
    "- Handles realistic frictions and trading costs.\n",
    "- Trains on simulated paths via Monte Carlo.\n",
    "- Shows strong improvement over delta hedging, especially when transaction costs are high."
   ]
  },
  {
   "cell_type": "markdown",
   "id": "302364f5-9625-431b-b5fb-7d6a1cf51042",
   "metadata": {},
   "source": [
    "## 📘 1.8 Summary & What’s Next\n",
    "\n",
    "In this notebook, we:\n",
    "\n",
    "- Introduced options and standard hedging theory\n",
    "- Covered stochastic price modeling and Black-Scholes\n",
    "- Explained Deep Hedging and why it's useful\n",
    "- Introduced the reinforcement learning view of the problem"
   ]
  },
  {
   "cell_type": "markdown",
   "id": "ab045033-71a4-4e54-94f8-9cf11fb4082b",
   "metadata": {},
   "source": [
    "Next: we simulate realistic price and volatility data to train our Deep Hedging agent."
   ]
  },
  {
   "cell_type": "markdown",
   "id": "f8b20116-fe6a-4be5-b3a4-ec2c3db7a4a9",
   "metadata": {},
   "source": [
    "## 📘 1.9 Glossary\n",
    "\n",
    "- $( S_t )$: Asset price at time $( t )$\n",
    "- $( K )$: Strike price\n",
    "- $( Z_T )$: Portfolio value at maturity\n",
    "- $( a_t )$: Hedge action at time $( t )$\n",
    "- $( s_t )$: State of the market\n",
    "- $( C_T(a) )$: Total transaction costs\n",
    "- $( a_\\theta )$: Neural network with parameters $( \\theta )$\n",
    "- $( U )$: Utility function\n",
    "\n",
    "---"
   ]
  },
  {
   "cell_type": "markdown",
   "id": "40ea0c76-f224-43da-8c95-da98333ba1dc",
   "metadata": {},
   "source": [
    "## 📘 1.10 Further Reading\n",
    "\n",
    "- Bühler et al., *Deep Hedging* (2018): https://arxiv.org/abs/1802.03042  \n",
    "- TUM Slides (2022): https://ssrn.com/abstract=4151041  \n",
    "- Hans Bühler – Deep Hedging Lectures: http://deep-hedging.com  \n",
    "- *Advances in Financial Machine Learning* – M. López de Prado"
   ]
  },
  {
   "cell_type": "code",
   "execution_count": null,
   "id": "45046e61-c237-4b3c-9c2c-525be9603176",
   "metadata": {},
   "outputs": [],
   "source": []
  }
 ],
 "metadata": {
  "kernelspec": {
   "display_name": "Python (clustering-env)",
   "language": "python",
   "name": "clustering-env"
  },
  "language_info": {
   "codemirror_mode": {
    "name": "ipython",
    "version": 3
   },
   "file_extension": ".py",
   "mimetype": "text/x-python",
   "name": "python",
   "nbconvert_exporter": "python",
   "pygments_lexer": "ipython3",
   "version": "3.10.18"
  }
 },
 "nbformat": 4,
 "nbformat_minor": 5
}
